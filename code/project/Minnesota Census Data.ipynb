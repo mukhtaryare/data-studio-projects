{
 "cells": [
  {
   "cell_type": "code",
   "execution_count": 1,
   "metadata": {},
   "outputs": [
    {
     "data": {
      "text/html": [
       "<div>\n",
       "<style>\n",
       "    .dataframe thead tr:only-child th {\n",
       "        text-align: right;\n",
       "    }\n",
       "\n",
       "    .dataframe thead th {\n",
       "        text-align: left;\n",
       "    }\n",
       "\n",
       "    .dataframe tbody tr th {\n",
       "        vertical-align: top;\n",
       "    }\n",
       "</style>\n",
       "<table border=\"1\" class=\"dataframe\">\n",
       "  <thead>\n",
       "    <tr style=\"text-align: right;\">\n",
       "      <th></th>\n",
       "      <th>Year</th>\n",
       "      <th>Total population</th>\n",
       "      <th>White</th>\n",
       "      <th>Black or African American</th>\n",
       "      <th>American Indian and Alaska Native</th>\n",
       "      <th>Asian</th>\n",
       "      <th>Native Hawaiian and Other Pacific Islander</th>\n",
       "      <th>Two or more races</th>\n",
       "      <th>Hispanic (of any other races or races)</th>\n",
       "    </tr>\n",
       "  </thead>\n",
       "  <tbody>\n",
       "    <tr>\n",
       "      <th>0</th>\n",
       "      <td>2000</td>\n",
       "      <td>4933692</td>\n",
       "      <td>4353427</td>\n",
       "      <td>176223</td>\n",
       "      <td>52531</td>\n",
       "      <td>146237</td>\n",
       "      <td>1790</td>\n",
       "      <td>58183</td>\n",
       "      <td>145301</td>\n",
       "    </tr>\n",
       "    <tr>\n",
       "      <th>1</th>\n",
       "      <td>2005</td>\n",
       "      <td>5119598</td>\n",
       "      <td>4380719</td>\n",
       "      <td>224384</td>\n",
       "      <td>54057</td>\n",
       "      <td>180398</td>\n",
       "      <td>1943</td>\n",
       "      <td>76635</td>\n",
       "      <td>201462</td>\n",
       "    </tr>\n",
       "    <tr>\n",
       "      <th>2</th>\n",
       "      <td>2010</td>\n",
       "      <td>5310903</td>\n",
       "      <td>4411802</td>\n",
       "      <td>272570</td>\n",
       "      <td>55755</td>\n",
       "      <td>217008</td>\n",
       "      <td>2001</td>\n",
       "      <td>99950</td>\n",
       "      <td>251817</td>\n",
       "    </tr>\n",
       "    <tr>\n",
       "      <th>3</th>\n",
       "      <td>2015</td>\n",
       "      <td>5489594</td>\n",
       "      <td>4446535</td>\n",
       "      <td>317130</td>\n",
       "      <td>58603</td>\n",
       "      <td>264609</td>\n",
       "      <td>2433</td>\n",
       "      <td>116070</td>\n",
       "      <td>284214</td>\n",
       "    </tr>\n",
       "  </tbody>\n",
       "</table>\n",
       "</div>"
      ],
      "text/plain": [
       "   Year  Total population    White  Black or African American  \\\n",
       "0  2000           4933692  4353427                     176223   \n",
       "1  2005           5119598  4380719                     224384   \n",
       "2  2010           5310903  4411802                     272570   \n",
       "3  2015           5489594  4446535                     317130   \n",
       "\n",
       "   American Indian and Alaska Native   Asian  \\\n",
       "0                              52531  146237   \n",
       "1                              54057  180398   \n",
       "2                              55755  217008   \n",
       "3                              58603  264609   \n",
       "\n",
       "   Native Hawaiian and Other Pacific Islander  Two or more races  \\\n",
       "0                                        1790              58183   \n",
       "1                                        1943              76635   \n",
       "2                                        2001              99950   \n",
       "3                                        2433             116070   \n",
       "\n",
       "   Hispanic (of any other races or races)  \n",
       "0                                  145301  \n",
       "1                                  201462  \n",
       "2                                  251817  \n",
       "3                                  284214  "
      ]
     },
     "execution_count": 1,
     "metadata": {},
     "output_type": "execute_result"
    }
   ],
   "source": [
    "# https://factfinder.census.gov/faces/tableservices/jsf/pages/productview.xhtml?src=bkmk\n",
    "# https://mn.gov/admin/demography/data-by-topic/age-race-ethnicity/\n",
    "\n",
    "# http://www.trbimg.com/img-5928b3b9/turbine/la-me-g-irvine-immigrants-web-demographics/\n",
    "# https://static01.nyt.com/newsgraphics/2016/09/13/18mag-latino-vote/5f0ea2e1d1f14b3acaf835afe1d0c4f0a1edb04f/latinovote1.png\n",
    "\n",
    "import pandas as pd\n",
    "import matplotlib.ticker as ticker\n",
    "import matplotlib.ticker as mtick\n",
    "import matplotlib.pyplot as plt\n",
    "plt.rcdefaults()\n",
    "import numpy as np\n",
    "import matplotlib.pyplot as plt\n",
    "import glob\n",
    "%matplotlib inline\n",
    "\n",
    "\n",
    "\n",
    "\n",
    "\n",
    "df = pd.read_csv('acs2006_10yr.csv')\n",
    "\n",
    "# pd.set_option('display.max_columns', 100)\n",
    "df.head()"
   ]
  },
  {
   "cell_type": "code",
   "execution_count": 2,
   "metadata": {
    "collapsed": true
   },
   "outputs": [],
   "source": [
    "# df=df.rename(columns = {'B03002001':'Total population'})"
   ]
  },
  {
   "cell_type": "code",
   "execution_count": 3,
   "metadata": {
    "collapsed": true
   },
   "outputs": [],
   "source": [
    "df.set_index('Year', inplace=True)"
   ]
  },
  {
   "cell_type": "code",
   "execution_count": 4,
   "metadata": {},
   "outputs": [
    {
     "data": {
      "text/html": [
       "<div>\n",
       "<style>\n",
       "    .dataframe thead tr:only-child th {\n",
       "        text-align: right;\n",
       "    }\n",
       "\n",
       "    .dataframe thead th {\n",
       "        text-align: left;\n",
       "    }\n",
       "\n",
       "    .dataframe tbody tr th {\n",
       "        vertical-align: top;\n",
       "    }\n",
       "</style>\n",
       "<table border=\"1\" class=\"dataframe\">\n",
       "  <thead>\n",
       "    <tr style=\"text-align: right;\">\n",
       "      <th></th>\n",
       "      <th>Total population</th>\n",
       "      <th>White</th>\n",
       "      <th>Black or African American</th>\n",
       "      <th>American Indian and Alaska Native</th>\n",
       "      <th>Asian</th>\n",
       "      <th>Native Hawaiian and Other Pacific Islander</th>\n",
       "      <th>Two or more races</th>\n",
       "      <th>Hispanic (of any other races or races)</th>\n",
       "    </tr>\n",
       "    <tr>\n",
       "      <th>Year</th>\n",
       "      <th></th>\n",
       "      <th></th>\n",
       "      <th></th>\n",
       "      <th></th>\n",
       "      <th></th>\n",
       "      <th></th>\n",
       "      <th></th>\n",
       "      <th></th>\n",
       "    </tr>\n",
       "  </thead>\n",
       "  <tbody>\n",
       "    <tr>\n",
       "      <th>2000</th>\n",
       "      <td>4933692</td>\n",
       "      <td>4353427</td>\n",
       "      <td>176223</td>\n",
       "      <td>52531</td>\n",
       "      <td>146237</td>\n",
       "      <td>1790</td>\n",
       "      <td>58183</td>\n",
       "      <td>145301</td>\n",
       "    </tr>\n",
       "    <tr>\n",
       "      <th>2005</th>\n",
       "      <td>5119598</td>\n",
       "      <td>4380719</td>\n",
       "      <td>224384</td>\n",
       "      <td>54057</td>\n",
       "      <td>180398</td>\n",
       "      <td>1943</td>\n",
       "      <td>76635</td>\n",
       "      <td>201462</td>\n",
       "    </tr>\n",
       "    <tr>\n",
       "      <th>2010</th>\n",
       "      <td>5310903</td>\n",
       "      <td>4411802</td>\n",
       "      <td>272570</td>\n",
       "      <td>55755</td>\n",
       "      <td>217008</td>\n",
       "      <td>2001</td>\n",
       "      <td>99950</td>\n",
       "      <td>251817</td>\n",
       "    </tr>\n",
       "    <tr>\n",
       "      <th>2015</th>\n",
       "      <td>5489594</td>\n",
       "      <td>4446535</td>\n",
       "      <td>317130</td>\n",
       "      <td>58603</td>\n",
       "      <td>264609</td>\n",
       "      <td>2433</td>\n",
       "      <td>116070</td>\n",
       "      <td>284214</td>\n",
       "    </tr>\n",
       "  </tbody>\n",
       "</table>\n",
       "</div>"
      ],
      "text/plain": [
       "      Total population    White  Black or African American  \\\n",
       "Year                                                         \n",
       "2000           4933692  4353427                     176223   \n",
       "2005           5119598  4380719                     224384   \n",
       "2010           5310903  4411802                     272570   \n",
       "2015           5489594  4446535                     317130   \n",
       "\n",
       "      American Indian and Alaska Native   Asian  \\\n",
       "Year                                              \n",
       "2000                              52531  146237   \n",
       "2005                              54057  180398   \n",
       "2010                              55755  217008   \n",
       "2015                              58603  264609   \n",
       "\n",
       "      Native Hawaiian and Other Pacific Islander  Two or more races  \\\n",
       "Year                                                                  \n",
       "2000                                        1790              58183   \n",
       "2005                                        1943              76635   \n",
       "2010                                        2001              99950   \n",
       "2015                                        2433             116070   \n",
       "\n",
       "      Hispanic (of any other races or races)  \n",
       "Year                                          \n",
       "2000                                  145301  \n",
       "2005                                  201462  \n",
       "2010                                  251817  \n",
       "2015                                  284214  "
      ]
     },
     "execution_count": 4,
     "metadata": {},
     "output_type": "execute_result"
    }
   ],
   "source": [
    "df.head(10)"
   ]
  },
  {
   "cell_type": "code",
   "execution_count": 5,
   "metadata": {},
   "outputs": [
    {
     "data": {
      "text/plain": [
       "Index(['Total population', 'White', 'Black or African American',\n",
       "       'American Indian and Alaska Native', 'Asian',\n",
       "       'Native Hawaiian and Other Pacific Islander', 'Two or more races',\n",
       "       'Hispanic (of any other races or races)'],\n",
       "      dtype='object')"
      ]
     },
     "execution_count": 5,
     "metadata": {},
     "output_type": "execute_result"
    }
   ],
   "source": [
    "df.columns"
   ]
  },
  {
   "cell_type": "code",
   "execution_count": 6,
   "metadata": {},
   "outputs": [
    {
     "data": {
      "text/html": [
       "<div>\n",
       "<style>\n",
       "    .dataframe thead tr:only-child th {\n",
       "        text-align: right;\n",
       "    }\n",
       "\n",
       "    .dataframe thead th {\n",
       "        text-align: left;\n",
       "    }\n",
       "\n",
       "    .dataframe tbody tr th {\n",
       "        vertical-align: top;\n",
       "    }\n",
       "</style>\n",
       "<table border=\"1\" class=\"dataframe\">\n",
       "  <thead>\n",
       "    <tr style=\"text-align: right;\">\n",
       "      <th></th>\n",
       "      <th>Total population</th>\n",
       "      <th>White</th>\n",
       "      <th>Black or African American</th>\n",
       "      <th>American Indian and Alaska Native</th>\n",
       "      <th>Asian</th>\n",
       "      <th>Native Hawaiian and Other Pacific Islander</th>\n",
       "      <th>Two or more races</th>\n",
       "      <th>Hispanic (of any other races or races)</th>\n",
       "    </tr>\n",
       "    <tr>\n",
       "      <th>Year</th>\n",
       "      <th></th>\n",
       "      <th></th>\n",
       "      <th></th>\n",
       "      <th></th>\n",
       "      <th></th>\n",
       "      <th></th>\n",
       "      <th></th>\n",
       "      <th></th>\n",
       "    </tr>\n",
       "  </thead>\n",
       "  <tbody>\n",
       "    <tr>\n",
       "      <th>2000</th>\n",
       "      <td>4933692</td>\n",
       "      <td>4353427</td>\n",
       "      <td>176223</td>\n",
       "      <td>52531</td>\n",
       "      <td>146237</td>\n",
       "      <td>1790</td>\n",
       "      <td>58183</td>\n",
       "      <td>145301</td>\n",
       "    </tr>\n",
       "    <tr>\n",
       "      <th>2005</th>\n",
       "      <td>5119598</td>\n",
       "      <td>4380719</td>\n",
       "      <td>224384</td>\n",
       "      <td>54057</td>\n",
       "      <td>180398</td>\n",
       "      <td>1943</td>\n",
       "      <td>76635</td>\n",
       "      <td>201462</td>\n",
       "    </tr>\n",
       "    <tr>\n",
       "      <th>2010</th>\n",
       "      <td>5310903</td>\n",
       "      <td>4411802</td>\n",
       "      <td>272570</td>\n",
       "      <td>55755</td>\n",
       "      <td>217008</td>\n",
       "      <td>2001</td>\n",
       "      <td>99950</td>\n",
       "      <td>251817</td>\n",
       "    </tr>\n",
       "    <tr>\n",
       "      <th>2015</th>\n",
       "      <td>5489594</td>\n",
       "      <td>4446535</td>\n",
       "      <td>317130</td>\n",
       "      <td>58603</td>\n",
       "      <td>264609</td>\n",
       "      <td>2433</td>\n",
       "      <td>116070</td>\n",
       "      <td>284214</td>\n",
       "    </tr>\n",
       "  </tbody>\n",
       "</table>\n",
       "</div>"
      ],
      "text/plain": [
       "      Total population    White  Black or African American  \\\n",
       "Year                                                         \n",
       "2000           4933692  4353427                     176223   \n",
       "2005           5119598  4380719                     224384   \n",
       "2010           5310903  4411802                     272570   \n",
       "2015           5489594  4446535                     317130   \n",
       "\n",
       "      American Indian and Alaska Native   Asian  \\\n",
       "Year                                              \n",
       "2000                              52531  146237   \n",
       "2005                              54057  180398   \n",
       "2010                              55755  217008   \n",
       "2015                              58603  264609   \n",
       "\n",
       "      Native Hawaiian and Other Pacific Islander  Two or more races  \\\n",
       "Year                                                                  \n",
       "2000                                        1790              58183   \n",
       "2005                                        1943              76635   \n",
       "2010                                        2001              99950   \n",
       "2015                                        2433             116070   \n",
       "\n",
       "      Hispanic (of any other races or races)  \n",
       "Year                                          \n",
       "2000                                  145301  \n",
       "2005                                  201462  \n",
       "2010                                  251817  \n",
       "2015                                  284214  "
      ]
     },
     "execution_count": 6,
     "metadata": {},
     "output_type": "execute_result"
    }
   ],
   "source": [
    "df.head()"
   ]
  },
  {
   "cell_type": "code",
   "execution_count": 7,
   "metadata": {},
   "outputs": [
    {
     "data": {
      "image/png": "[encoded data removed]",
      "text/plain": [
       "<matplotlib.figure.Figure at 0x108124ba8>"
      ]
     },
     "metadata": {},
     "output_type": "display_data"
    }
   ],
   "source": [
    "for column in df.columns[1:]:\n",
    "    df[column] = df[column]/df['Total population']*100 \n",
    "    ax = df[column].plot(kind='line', figsize=(20,5))\n",
    "plt.savefig('minnesota-pop.pdf')"
   ]
  },
  {
   "cell_type": "code",
   "execution_count": 8,
   "metadata": {},
   "outputs": [
    {
     "data": {
      "text/html": [
       "<div>\n",
       "<style>\n",
       "    .dataframe thead tr:only-child th {\n",
       "        text-align: right;\n",
       "    }\n",
       "\n",
       "    .dataframe thead th {\n",
       "        text-align: left;\n",
       "    }\n",
       "\n",
       "    .dataframe tbody tr th {\n",
       "        vertical-align: top;\n",
       "    }\n",
       "</style>\n",
       "<table border=\"1\" class=\"dataframe\">\n",
       "  <thead>\n",
       "    <tr style=\"text-align: right;\">\n",
       "      <th></th>\n",
       "      <th>Total population</th>\n",
       "      <th>White</th>\n",
       "      <th>Black or African American</th>\n",
       "      <th>American Indian and Alaska Native</th>\n",
       "      <th>Asian</th>\n",
       "      <th>Native Hawaiian and Other Pacific Islander</th>\n",
       "      <th>Two or more races</th>\n",
       "      <th>Hispanic (of any other races or races)</th>\n",
       "    </tr>\n",
       "    <tr>\n",
       "      <th>Year</th>\n",
       "      <th></th>\n",
       "      <th></th>\n",
       "      <th></th>\n",
       "      <th></th>\n",
       "      <th></th>\n",
       "      <th></th>\n",
       "      <th></th>\n",
       "      <th></th>\n",
       "    </tr>\n",
       "  </thead>\n",
       "  <tbody>\n",
       "    <tr>\n",
       "      <th>2000</th>\n",
       "      <td>4933692</td>\n",
       "      <td>88.238727</td>\n",
       "      <td>3.571828</td>\n",
       "      <td>1.064740</td>\n",
       "      <td>2.964048</td>\n",
       "      <td>0.036281</td>\n",
       "      <td>1.179299</td>\n",
       "      <td>2.945076</td>\n",
       "    </tr>\n",
       "    <tr>\n",
       "      <th>2005</th>\n",
       "      <td>5119598</td>\n",
       "      <td>85.567636</td>\n",
       "      <td>4.382844</td>\n",
       "      <td>1.055884</td>\n",
       "      <td>3.523675</td>\n",
       "      <td>0.037952</td>\n",
       "      <td>1.496895</td>\n",
       "      <td>3.935114</td>\n",
       "    </tr>\n",
       "    <tr>\n",
       "      <th>2010</th>\n",
       "      <td>5310903</td>\n",
       "      <td>83.070657</td>\n",
       "      <td>5.132272</td>\n",
       "      <td>1.049821</td>\n",
       "      <td>4.086085</td>\n",
       "      <td>0.037677</td>\n",
       "      <td>1.881978</td>\n",
       "      <td>4.741510</td>\n",
       "    </tr>\n",
       "    <tr>\n",
       "      <th>2015</th>\n",
       "      <td>5489594</td>\n",
       "      <td>80.999342</td>\n",
       "      <td>5.776930</td>\n",
       "      <td>1.067529</td>\n",
       "      <td>4.820193</td>\n",
       "      <td>0.044320</td>\n",
       "      <td>2.114364</td>\n",
       "      <td>5.177323</td>\n",
       "    </tr>\n",
       "  </tbody>\n",
       "</table>\n",
       "</div>"
      ],
      "text/plain": [
       "      Total population      White  Black or African American  \\\n",
       "Year                                                           \n",
       "2000           4933692  88.238727                   3.571828   \n",
       "2005           5119598  85.567636                   4.382844   \n",
       "2010           5310903  83.070657                   5.132272   \n",
       "2015           5489594  80.999342                   5.776930   \n",
       "\n",
       "      American Indian and Alaska Native     Asian  \\\n",
       "Year                                                \n",
       "2000                           1.064740  2.964048   \n",
       "2005                           1.055884  3.523675   \n",
       "2010                           1.049821  4.086085   \n",
       "2015                           1.067529  4.820193   \n",
       "\n",
       "      Native Hawaiian and Other Pacific Islander  Two or more races  \\\n",
       "Year                                                                  \n",
       "2000                                    0.036281           1.179299   \n",
       "2005                                    0.037952           1.496895   \n",
       "2010                                    0.037677           1.881978   \n",
       "2015                                    0.044320           2.114364   \n",
       "\n",
       "      Hispanic (of any other races or races)  \n",
       "Year                                          \n",
       "2000                                2.945076  \n",
       "2005                                3.935114  \n",
       "2010                                4.741510  \n",
       "2015                                5.177323  "
      ]
     },
     "execution_count": 8,
     "metadata": {},
     "output_type": "execute_result"
    }
   ],
   "source": [
    "df.head()"
   ]
  },
  {
   "cell_type": "code",
   "execution_count": 9,
   "metadata": {},
   "outputs": [],
   "source": [
    "# df = pd.DataFrame(minnesota_census)\n",
    "df.to_csv(\"minnesota_census.csv\", index=False)"
   ]
  },
  {
   "cell_type": "code",
   "execution_count": 10,
   "metadata": {},
   "outputs": [
    {
     "data": {
      "text/plain": [
       "<matplotlib.axes._subplots.AxesSubplot at 0x10829c5f8>"
      ]
     },
     "execution_count": 10,
     "metadata": {},
     "output_type": "execute_result"
    },
    {
     "data": {
      "image/png": "[encoded data removed]",
      "text/plain": [
       "<matplotlib.figure.Figure at 0x108108dd8>"
      ]
     },
     "metadata": {},
     "output_type": "display_data"
    }
   ],
   "source": [
    "df.plot()"
   ]
  },
  {
   "cell_type": "code",
   "execution_count": 11,
   "metadata": {},
   "outputs": [
    {
     "data": {
      "text/plain": [
       "<matplotlib.axes._subplots.AxesSubplot at 0x108727eb8>"
      ]
     },
     "execution_count": 11,
     "metadata": {},
     "output_type": "execute_result"
    },
    {
     "data": {
      "image/png": "[encoded data removed]",
      "text/plain": [
       "<matplotlib.figure.Figure at 0x1086df898>"
      ]
     },
     "metadata": {},
     "output_type": "display_data"
    }
   ],
   "source": [
    "df.plot(kind='line', figsize=(10,5))"
   ]
  },
  {
   "cell_type": "code",
   "execution_count": 12,
   "metadata": {},
   "outputs": [
    {
     "data": {
      "text/plain": [
       "[<matplotlib.text.Text at 0x10889b9e8>,\n",
       " <matplotlib.text.Text at 0x108970710>,\n",
       " <matplotlib.text.Text at 0x108887978>,\n",
       " <matplotlib.text.Text at 0x108a186a0>,\n",
       " <matplotlib.text.Text at 0x10889b908>,\n",
       " <matplotlib.text.Text at 0x108a189b0>,\n",
       " <matplotlib.text.Text at 0x108a1f208>,\n",
       " <matplotlib.text.Text at 0x108a1fac8>]"
      ]
     },
     "execution_count": 12,
     "metadata": {},
     "output_type": "execute_result"
    },
    {
     "data": {
      "image/png": "[encoded data removed]",
      "text/plain": [
       "<matplotlib.figure.Figure at 0x1087a0e48>"
      ]
     },
     "metadata": {},
     "output_type": "display_data"
    }
   ],
   "source": [
    "# import pandas as pd\n",
    "# import numpy as np\n",
    "\n",
    "# df = pd.DataFrame(np.random.randn(100,5))\n",
    "\n",
    "# you get ax from here\n",
    "ax = df.plot()\n",
    "type(ax)  # matplotlib.axes._subplots.AxesSubplot\n",
    "\n",
    "# manipulate\n",
    "vals = ax.get_yticks()\n",
    "ax.set_yticklabels(['{:3.2f}%'.format(x*100) for x in vals])"
   ]
  },
  {
   "cell_type": "code",
   "execution_count": 14,
   "metadata": {},
   "outputs": [],
   "source": [
    "# ax = df.iloc[8].sort_values().plot(figsize=(10,5), kind='barh', color='grey', x='Year')\n",
    "# ax = df.iloc[8].sort_values().plot(figsize=(10,5), kind='barh', color='black', x='Year')\n",
    "# ax = df.iloc[7].sort_values().plot(figsize=(10,5), kind='barh', color='white', x='Year')\n",
    "# ax = df.iloc[6].sort_values().plot(figsize=(10,5), kind='barh', color='purple', x='Year')\n",
    "# ax = df.iloc[5].sort_values().plot(figsize=(10,5), kind='barh', color='orange', x='Year')\n",
    "# ax = df.iloc[4].sort_values().plot(figsize=(10,5), kind='barh', color='green', x='Year')\n",
    "# ax = df.iloc[3].sort_values().plot(figsize=(10,5), kind='barh', color='brown', x='Year')\n",
    "# ax = df.iloc[2].sort_values().plot(figsize=(10,5), kind='barh', color='yellow', x='Year')\n",
    "# ax = df.iloc[1].sort_values().plot(figsize=(10,5), kind='barh', color='blue', x='Year')\n",
    "# ax = df.iloc[0].sort_values().plot(figsize=(10,5), kind='barh', color='red', x='Year')\n",
    "# ax.set_title(\"Minnesota's population from 2006 to 2015\")\n",
    "# ax.set_frame_on(False)\n",
    "# ax.xaxis.set_ticks_position('none')\n",
    "# ax.yaxis.set_ticks_position('none')\n",
    "ax.xaxis.set_major_formatter(ticker.StrMethodFormatter(\"{x:,.0f}\"))\n"
   ]
  },
  {
   "cell_type": "code",
   "execution_count": null,
   "metadata": {},
   "outputs": [],
   "source": [
    "df = pd.read_excel('MN_MidyearPopEstimatesByRE_CensusBureau_2000-2015_tcm36-249143.xls')\n",
    "df.head(9)"
   ]
  },
  {
   "cell_type": "code",
   "execution_count": null,
   "metadata": {},
   "outputs": [],
   "source": [
    "df.plot()"
   ]
  },
  {
   "cell_type": "code",
   "execution_count": null,
   "metadata": {
    "collapsed": true
   },
   "outputs": [],
   "source": []
  },
  {
   "cell_type": "code",
   "execution_count": null,
   "metadata": {
    "collapsed": true
   },
   "outputs": [],
   "source": []
  },
  {
   "cell_type": "code",
   "execution_count": null,
   "metadata": {
    "collapsed": true
   },
   "outputs": [],
   "source": []
  },
  {
   "cell_type": "code",
   "execution_count": null,
   "metadata": {
    "collapsed": true
   },
   "outputs": [],
   "source": []
  }
 ],
 "metadata": {
  "kernelspec": {
   "display_name": "Python 3",
   "language": "python",
   "name": "python3"
  },
  "language_info": {
   "codemirror_mode": {
    "name": "ipython",
    "version": 3
   },
   "file_extension": ".py",
   "mimetype": "text/x-python",
   "name": "python",
   "nbconvert_exporter": "python",
   "pygments_lexer": "ipython3",
   "version": "3.6.1"
  }
 },
 "nbformat": 4,
 "nbformat_minor": 2
}
